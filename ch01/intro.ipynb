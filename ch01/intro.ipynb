{
 "cells": [
  {
   "cell_type": "markdown",
   "id": "9b625bae",
   "metadata": {},
   "source": [
    "## A Kinematics Problem\n",
    "\n",
    "Answer: how much time will it take the car to travel 2 meters.\n",
    "\n",
    "The position-time equation is:\n",
    "$$\n",
    "x(t) = \\frac{1}{2}a_{0}t^2 + v(0)t + x(0)\n",
    "$$\n",
    "\n",
    "Facts:\n",
    " - acceleration is constant: $ 0.4m/s^2 $\n",
    " - car starts at rest: $ v(0) = 0 $ and $ t = 0 $\n",
    " - car starts at position 0: $ x(0) = 0 $\n",
    " \n",
    "Target: $ x(t) = 2m $\n",
    "\n",
    "$$\n",
    "t = \\sqrt{\\frac{2(2m)}{0.4m/s^2}}\n",
    "$$"
   ]
  },
  {
   "cell_type": "code",
   "execution_count": 1,
   "id": "420e6194",
   "metadata": {},
   "outputs": [
    {
     "data": {
      "text/plain": [
       "3.1622776601683795"
      ]
     },
     "metadata": {},
     "output_type": "display_data"
    }
   ],
   "source": [
    "sqrt(2*2 / 0.4)"
   ]
  },
  {
   "cell_type": "markdown",
   "id": "11028f5d",
   "metadata": {},
   "source": [
    "## Common Haskell Numeric Functions\n",
    "\n",
    "| Function | Description |\n",
    "| -------- | :---------: |\n",
    "| `exp`    | $ f(x) = e^x $ |\n",
    "| `sqrt`   | square root |\n",
    "| `abs`    | absolute value |\n",
    "| `log`    | Natural log (log base $e$) |\n",
    "| `sin`    | Argument in radians |\n",
    "| `cos`    | Argument in radians |\n",
    "| `tan`    | Argument in radians |\n",
    "| `asin`   | Arcsine (inverse sin) |\n",
    "| `acos`   | Arccosine |\n",
    "| `atan`   | Arctangent |\n",
    "| `sinh`   | $ sinh(x) = \\frac{(e^x - e^{-x})}{2} $ |\n",
    "| `cosh`   | $ cosh(x) = \\frac{(e^x + e^{-x})}{2} $ |\n",
    "| `tanh`   | $ tanh(x) = \\frac{(e^x - e^{-x})}{(e^x + e^{-x})} $ |\n",
    "| `asinh`  | inverse hyperbolic sine |\n",
    "| `acosh`  | inverse hyperbolic cosine |\n",
    "| `atanh`  | inverse hyperbolic tangent |\n",
    "| `pi`     | constant $\\pi$"
   ]
  },
  {
   "cell_type": "code",
   "execution_count": 2,
   "id": "61bd557e",
   "metadata": {},
   "outputs": [
    {
     "data": {
      "text/plain": [
       "2.718281828459045"
      ]
     },
     "metadata": {},
     "output_type": "display_data"
    }
   ],
   "source": [
    "exp 1"
   ]
  },
  {
   "cell_type": "code",
   "execution_count": null,
   "id": "b2aac8fe",
   "metadata": {},
   "outputs": [],
   "source": []
  }
 ],
 "metadata": {
  "kernelspec": {
   "display_name": "Haskell",
   "language": "haskell",
   "name": "haskell"
  },
  "language_info": {
   "codemirror_mode": "ihaskell",
   "file_extension": ".hs",
   "mimetype": "text/x-haskell",
   "name": "haskell",
   "pygments_lexer": "Haskell",
   "version": "9.4.5"
  }
 },
 "nbformat": 4,
 "nbformat_minor": 5
}
